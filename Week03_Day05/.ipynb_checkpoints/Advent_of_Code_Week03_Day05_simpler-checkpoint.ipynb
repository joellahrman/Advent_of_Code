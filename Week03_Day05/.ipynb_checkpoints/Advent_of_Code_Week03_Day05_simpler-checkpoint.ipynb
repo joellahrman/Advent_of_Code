{
 "cells": [
  {
   "cell_type": "code",
   "execution_count": 1,
   "metadata": {},
   "outputs": [
    {
     "name": "stdout",
     "output_type": "stream",
     "text": [
      "Part 1 answer: 926\n"
     ]
    }
   ],
   "source": [
    "import pandas as pd\n",
    "import numpy as np\n",
    "\n",
    "# Import csv\n",
    "data_file_loc = 'C:/Users/jlahrman/OneDrive - LMI/Documents/Advent_of_Code/Week03_Day05/'\n",
    "\n",
    "column = ['input']\n",
    "day5data = pd.read_csv(data_file_loc + 'day_05_input.csv', \n",
    "                       header = None, \n",
    "                       names = column \n",
    "                      )\n",
    "\n",
    "# I'm not liking hard-coding the length of the characters but I'll leave it for now.\n",
    "row_length = 7\n",
    "\n",
    "# Is there a better way to add columns to a data frame?\n",
    "day5data['row_char'] = np.empty((len(day5data), 0)).tolist()\n",
    "day5data['seat_char'] = np.empty((len(day5data), 0)).tolist()\n",
    "day5data['row'] = \"\"\n",
    "day5data['seat'] = \"\"\n",
    "day5data['seat_id'] = \"\"\n",
    "\n",
    "for x in range(len(day5data)):\n",
    "    # Has to be a better way to fill in the columns! Oh do I feel like an idiot with all this iloc business.\n",
    "    # Row characters come first\n",
    "    day5data['row_char'].iloc[x] = day5data['input'].iloc[x][:row_length]\n",
    "    day5data['row_char'].iloc[x] = day5data['row_char'].iloc[x].replace(\"F\", \"0\")\n",
    "    day5data['row_char'].iloc[x] = day5data['row_char'].iloc[x].replace(\"B\", \"1\")\n",
    "    # Then the seat characters\n",
    "    day5data['seat_char'].iloc[x] = day5data['input'].iloc[x][row_length:]\n",
    "    day5data['seat_char'].iloc[x] = day5data['seat_char'].iloc[x].replace(\"L\", \"0\")\n",
    "    day5data['seat_char'].iloc[x] = day5data['seat_char'].iloc[x].replace(\"R\", \"1\")\n",
    "    # Now convert the binaries from base 2 to base 10\n",
    "    day5data['row'].iloc[x] = int(day5data['row_char'].iloc[x],2)\n",
    "    day5data['seat'].iloc[x] = int(day5data['seat_char'].iloc[x],2)\n",
    "    # Calculate the seat_id\n",
    "    day5data['seat_id'].iloc[x] = day5data['row'].iloc[x] * 8 + day5data['seat'].iloc[x]\n",
    "\n",
    "part_1_answer = int(day5data['seat_id'].max())\n",
    "\n",
    "print('Part 1 answer:',part_1_answer)\n",
    "\n"
   ]
  },
  {
   "cell_type": "code",
   "execution_count": 2,
   "metadata": {},
   "outputs": [
    {
     "name": "stdout",
     "output_type": "stream",
     "text": [
      "Part 2 answer: 657\n"
     ]
    }
   ],
   "source": [
    "seat_id_list = day5data['seat_id'].tolist()\n",
    "seat_id_list = [int(item) for item in seat_id_list]\n",
    "\n",
    "# This is hacky but if there is a missing seat_id, check to see if there is a seat_id for either side. If yes we've found our missing seat.\n",
    "\n",
    "for x in range(part_1_answer):\n",
    "    if x not in seat_id_list:\n",
    "        if x-1 in seat_id_list:\n",
    "            if x+1 in seat_id_list:\n",
    "                print('Part 2 answer:',x)"
   ]
  },
  {
   "cell_type": "code",
   "execution_count": null,
   "metadata": {},
   "outputs": [],
   "source": []
  }
 ],
 "metadata": {
  "kernelspec": {
   "display_name": "Python 3",
   "language": "python",
   "name": "python3"
  },
  "language_info": {
   "codemirror_mode": {
    "name": "ipython",
    "version": 3
   },
   "file_extension": ".py",
   "mimetype": "text/x-python",
   "name": "python",
   "nbconvert_exporter": "python",
   "pygments_lexer": "ipython3",
   "version": "3.7.6"
  }
 },
 "nbformat": 4,
 "nbformat_minor": 4
}
