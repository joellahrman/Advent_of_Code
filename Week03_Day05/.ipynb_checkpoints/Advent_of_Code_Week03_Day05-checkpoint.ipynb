{
 "cells": [
  {
   "cell_type": "code",
   "execution_count": 1,
   "metadata": {},
   "outputs": [
    {
     "name": "stdout",
     "output_type": "stream",
     "text": [
      "Part 1 answer: 926\n"
     ]
    }
   ],
   "source": [
    "import itertools\n",
    "import requests\n",
    "import pandas as pd\n",
    "import numpy as np\n",
    "import matplotlib.pyplot as plt\n",
    "from operator import mul\n",
    "\n",
    "# Import csv\n",
    "data_file_loc = 'C:/Users/jlahrman/OneDrive - LMI/Documents/Advent_of_Code/Week03_Day05/'\n",
    "\n",
    "column = ['input']\n",
    "day5data = pd.read_csv(data_file_loc + 'day_05_input.csv', \n",
    "                       header = None, \n",
    "                       names = column \n",
    "                      # skip_blank_lines=False\n",
    "                      )\n",
    "\n",
    "# I'm not liking hard-coding the length of the characters but I'll leave it for now.\n",
    "character_length = 10\n",
    "row_length = 7\n",
    "seat_length = character_length - row_length\n",
    "\n",
    "# Is there a better way to add columns to a data frame?\n",
    "day5data['characters'] = np.empty((len(day5data), 0)).tolist()\n",
    "day5data['row_char'] = np.empty((len(day5data), 0)).tolist()\n",
    "day5data['seat_char'] = np.empty((len(day5data), 0)).tolist()\n",
    "day5data['row'] = np.empty((len(day5data), 0)).tolist()\n",
    "day5data['seat'] = np.empty((len(day5data), 0)).tolist()\n",
    "day5data['seat_id'] = np.empty((len(day5data), 0)).tolist()\n",
    "\n",
    "# Creating lists of reverse-base 2 to apply to the binary lists I'm going to create for each character strings\n",
    "# Could probably do row_length-2 instead of row_length-1 and then divide by two, but not sure the loop would still work...\n",
    "row_mult = []\n",
    "for i in range(row_length):\n",
    "    row_mult.append(2**(row_length-i)/2)\n",
    "seat_mult = []\n",
    "for i in range(seat_length):\n",
    "    seat_mult.append(2**(seat_length-i)/2)\n",
    "\n",
    "for x in range(len(day5data)):\n",
    "    # Has to be a better way to fill in the columns!\n",
    "    # split the characters into a list\n",
    "    day5data['characters'].iloc[x] = list(day5data['input'].iloc[x])\n",
    "    # Row characters come first\n",
    "    day5data['row_char'].iloc[x] = day5data['characters'].iloc[x][0:row_length]\n",
    "    # Then the seat characters\n",
    "    day5data['seat_char'].iloc[x] = day5data['characters'].iloc[x][row_length:character_length]\n",
    "    # Now convert the row characters - if it's a B it gets a 1, otherwise 0\n",
    "    for i in range(len(day5data['row_char'].iloc[x])):\n",
    "        if day5data['row_char'].iloc[x][i] == 'F':\n",
    "            day5data['row_char'].iloc[x][i] = 0\n",
    "        elif day5data['row_char'].iloc[x][i] == 'B':\n",
    "            day5data['row_char'].iloc[x][i] = 1\n",
    "    # Similar for seat characters\n",
    "    for i in range(len(day5data['seat_char'].iloc[x])):\n",
    "        if day5data['seat_char'].iloc[x][i] == 'L':\n",
    "            day5data['seat_char'].iloc[x][i] = 0\n",
    "        elif day5data['seat_char'].iloc[x][i] == 'R':\n",
    "            day5data['seat_char'].iloc[x][i] = 1\n",
    "    # Now apply the reverse base-2 lists to the binary lists. Summing the products translates calculates the numbers as described in the problem.\n",
    "    day5data['row'].iloc[x] = sum([a*b for a,b in zip(day5data['row_char'].iloc[x],row_mult)])\n",
    "    day5data['seat'].iloc[x] = sum([a*b for a,b in zip(day5data['seat_char'].iloc[x],seat_mult)])\n",
    "    day5data['seat_id'].iloc[x] = day5data['row'].iloc[x] * 8 + day5data['seat'].iloc[x]\n",
    "    \n",
    "#    day5data['row'].iloc[x] = map(mul,day5data['row_char'].iloc[x],row_mult)     \n",
    "#    day5data['row'].iloc[x] = day5data['row_char'].iloc[x] * row_mult\n",
    "\n",
    "# print(day5data.head(10))\n",
    "\n",
    "part_1_answer = int(day5data['seat_id'].max())\n",
    "\n",
    "print('Part 1 answer:',part_1_answer)\n",
    "\n"
   ]
  },
  {
   "cell_type": "code",
   "execution_count": 73,
   "metadata": {},
   "outputs": [
    {
     "name": "stdout",
     "output_type": "stream",
     "text": [
      "657\n"
     ]
    }
   ],
   "source": [
    "seat_id_list = day5data['seat_id'].tolist()\n",
    "seat_id_list = [int(item) for item in seat_id_list]\n",
    "\n",
    "# This is hacky but if there is a missing seat_id, check to see if there is a seat_id for either side. If yes we've found our missing seat.\n",
    "\n",
    "for x in range(part_1_answer):\n",
    "    if x not in seat_id_list:\n",
    "        if x-1 in seat_id_list:\n",
    "            if x+1 in seat_id_list:\n",
    "                print(x)\n",
    "\n",
    "#for x in range(part_1_answer):\n",
    "#    if x not in seat_id_list:\n",
    "#        if x-1 not in seat_id_list:\n",
    "#            if x+1 not in seat_id_list:\n",
    "#                print(x)"
   ]
  },
  {
   "cell_type": "code",
   "execution_count": null,
   "metadata": {},
   "outputs": [],
   "source": []
  }
 ],
 "metadata": {
  "kernelspec": {
   "display_name": "Python 3",
   "language": "python",
   "name": "python3"
  },
  "language_info": {
   "codemirror_mode": {
    "name": "ipython",
    "version": 3
   },
   "file_extension": ".py",
   "mimetype": "text/x-python",
   "name": "python",
   "nbconvert_exporter": "python",
   "pygments_lexer": "ipython3",
   "version": "3.7.6"
  }
 },
 "nbformat": 4,
 "nbformat_minor": 4
}
