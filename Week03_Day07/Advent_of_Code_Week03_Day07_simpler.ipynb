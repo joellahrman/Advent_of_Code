{
 "cells": [
  {
   "cell_type": "code",
   "execution_count": 20,
   "metadata": {},
   "outputs": [
    {
     "name": "stdout",
     "output_type": "stream",
     "text": [
      "        input row_char seat_char row seat seat_id\n",
      "0  FFBBBBBLLR  0011111       001  31    1     249\n",
      "1  BFBFBBBRLL  1010111       100  87    4     700\n",
      "2  FBFFFFBLRL  0100001       010  33    2     266\n",
      "3  BFFBFBBRLR  1001011       101  75    5     605\n",
      "4  FFBBFFFRRL  0011000       110  24    6     198\n",
      "5  FBFBFFBLLR  0101001       001  41    1     329\n",
      "6  BFFBFBFLLR  1001010       001  74    1     593\n",
      "7  BFFBBBBRRL  1001111       110  79    6     638\n",
      "8  FBBBFBFLRL  0111010       010  58    2     466\n",
      "9  BFFBFBBRLL  1001011       100  75    4     604\n",
      "Part 1 answer: 926\n"
     ]
    }
   ],
   "source": [
    "import pandas as pd\n",
    "import numpy as np\n",
    "\n",
    "# Import csv\n",
    "data_file_loc = 'C:/Users/jlahrman/OneDrive - LMI/Documents/Advent_of_Code/Week03_Day07/'\n",
    "\n",
    "column = ['input']\n",
    "day7data = pd.read_csv(data_file_loc + 'day_07_input.csv', \n",
    "                       header = None, \n",
    "                       names = column \n",
    "                      )\n",
    "\n",
    "# I'm not liking hard-coding the length of the characters but I'll leave it for now.\n",
    "row_length = 7\n",
    "\n",
    "# Is there a better way to add columns to a data frame?\n",
    "day7data['row_char'] = np.empty((len(day7data), 0)).tolist()\n",
    "day7data['seat_char'] = np.empty((len(day7data), 0)).tolist()\n",
    "day7data['row'] = \"\"\n",
    "day7data['seat'] = \"\"\n",
    "day7data['seat_id'] = \"\"\n",
    "\n",
    "for x in range(len(day7data)):\n",
    "    # Has to be a better way to fill in the columns! Oh do I feel like an idiot with all this iloc business.\n",
    "    # Row characters come first\n",
    "    day7data['row_char'].iloc[x] = day7data['input'].iloc[x][:row_length]\n",
    "    day7data['row_char'].iloc[x] = day7data['row_char'].iloc[x].replace(\"F\", \"0\")\n",
    "    day7data['row_char'].iloc[x] = day7data['row_char'].iloc[x].replace(\"B\", \"1\")\n",
    "    # Then the seat characters\n",
    "    day7data['seat_char'].iloc[x] = day7data['input'].iloc[x][row_length:]\n",
    "    day7data['seat_char'].iloc[x] = day7data['seat_char'].iloc[x].replace(\"L\", \"0\")\n",
    "    day7data['seat_char'].iloc[x] = day7data['seat_char'].iloc[x].replace(\"R\", \"1\")\n",
    "    # Now convert the binaries from base 2 to base 10\n",
    "    day7data['row'].iloc[x] = int(day7data['row_char'].iloc[x],2)\n",
    "    day7data['seat'].iloc[x] = int(day7data['seat_char'].iloc[x],2)\n",
    "    # Calculate the seat_id\n",
    "    day7data['seat_id'].iloc[x] = day7data['row'].iloc[x] * 8 + day7data['seat'].iloc[x]\n",
    "\n",
    "part_1_answer = int(day7data['seat_id'].max())\n",
    "\n",
    "print('Part 1 answer:',part_1_answer)\n",
    "\n"
   ]
  },
  {
   "cell_type": "code",
   "execution_count": 23,
   "metadata": {},
   "outputs": [
    {
     "name": "stdout",
     "output_type": "stream",
     "text": [
      "Part 2 answer: 657\n"
     ]
    }
   ],
   "source": [
    "seat_id_list = day7data['seat_id'].tolist()\n",
    "seat_id_list = [int(item) for item in seat_id_list]\n",
    "\n",
    "# This is hacky but if there is a missing seat_id, check to see if there is a seat_id for either side. If yes we've found our missing seat.\n",
    "\n",
    "for x in range(part_1_answer):\n",
    "    if x not in seat_id_list:\n",
    "        if x-1 in seat_id_list:\n",
    "            if x+1 in seat_id_list:\n",
    "                print('Part 2 answer:',x)"
   ]
  },
  {
   "cell_type": "code",
   "execution_count": null,
   "metadata": {},
   "outputs": [],
   "source": []
  }
 ],
 "metadata": {
  "kernelspec": {
   "display_name": "Python 3",
   "language": "python",
   "name": "python3"
  },
  "language_info": {
   "codemirror_mode": {
    "name": "ipython",
    "version": 3
   },
   "file_extension": ".py",
   "mimetype": "text/x-python",
   "name": "python",
   "nbconvert_exporter": "python",
   "pygments_lexer": "ipython3",
   "version": "3.7.6"
  }
 },
 "nbformat": 4,
 "nbformat_minor": 4
}
