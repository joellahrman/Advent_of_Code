{
 "cells": [
  {
   "cell_type": "code",
   "execution_count": 1,
   "metadata": {},
   "outputs": [
    {
     "name": "stdout",
     "output_type": "stream",
     "text": [
      "First Half\n",
      "first index 39 , second index 129 first number: [679] second number: [1341]\n",
      "[910539]\n",
      "Tried  19900 combinations. Found  1 matches\n",
      "\n",
      "Second Half\n",
      "first index 71 , second index 139 , third index 182 first number: [912] second number: [977] third number: [131]\n",
      "[116724144]\n",
      "Tried  1313400 combinations. Found  1 matches\n"
     ]
    }
   ],
   "source": [
    "import itertools\n",
    "import requests\n",
    "import pandas as pd\n",
    "import numpy as np\n",
    "import matplotlib.pyplot as plt\n",
    "from wordcloud import WordCloud, STOPWORDS\n",
    "\n",
    "# I thought I'd try to get fancy and import directly from the URL\n",
    "# But all I get is a message that says 'Puzzle inputs differ by user.  Please log in to get your puzzle input.'\n",
    "url = \"https://adventofcode.com/2020/day/1/input\"\n",
    "text = requests.get(url).text\n",
    "\n",
    "# So instead I saved the data to a csv and import it\n",
    "data_file_loc = 'C:/Users/jlahrman/OneDrive - LMI/Documents/Advent_of_Code/Week01_Day01/'\n",
    "day1data = pd.read_csv(data_file_loc + 'day_01_input.csv', header = None)\n",
    "\n",
    "# Then change it to a list\n",
    "day1datalist = day1data.values.tolist()\n",
    "\n",
    "target_sum = 2020\n",
    "\n",
    "counter = 0\n",
    "matches = 0\n",
    "# x starts at the first item, then y iterates through every higher index.\n",
    "# In the end this will loop through every combination\n",
    "for x in range(len(day1datalist)):\n",
    "    for y in range(x+1,len(day1datalist)):\n",
    "        num1 = np.array(day1datalist[x])\n",
    "        num2 = np.array(day1datalist[y])\n",
    "        total = num1 + num2\n",
    "        counter +=1\n",
    "        if total == target_sum:\n",
    "            matches += 1\n",
    "            print('First Half')\n",
    "            print('first index', x, ', second index', y, 'first number:', num1, 'second number:', num2)\n",
    "            product = num1 * num2\n",
    "            print(product)\n",
    "print('Tried ', counter, 'combinations. Found ', matches, 'matches')\n",
    "\n",
    "print('')\n",
    "            \n",
    "counter = 0\n",
    "matches = 0            \n",
    "for x in range(len(day1datalist)):\n",
    "    for y in range(x+1,len(day1datalist)):\n",
    "        for z in range(y+1,len(day1datalist)):\n",
    "            num1 = np.array(day1datalist[x])\n",
    "            num2 = np.array(day1datalist[y])\n",
    "            num3 = np.array(day1datalist[z])\n",
    "            total = num1 + num2 + num3\n",
    "            counter +=1\n",
    "            if total == target_sum:\n",
    "                matches += 1\n",
    "                print('Second Half')\n",
    "                print('first index', x, ', second index', y, ', third index', z, 'first number:', num1, 'second number:', num2, 'third number:', num3)\n",
    "                product = num1 * num2 * num3\n",
    "                print(product)\n",
    "print('Tried ', counter, 'combinations. Found ', matches, 'matches')\n"
   ]
  },
  {
   "cell_type": "code",
   "execution_count": 24,
   "metadata": {},
   "outputs": [
    {
     "name": "stdout",
     "output_type": "stream",
     "text": [
      "64684950\n",
      "18164\n"
     ]
    }
   ],
   "source": [
    "from itertools import chain\n",
    "\n",
    "def find_matches(target_sum,combo_size):\n",
    "    # The output of itertools.combinations is an object of class itertools.combinations which we can't really work with\n",
    "    all_combos = itertools.combinations(day1datalist,combo_size)\n",
    "\n",
    "    # So the first step is to convert the itertools.combination to a list\n",
    "    list_all_combos = list(all_combos)\n",
    "    print(len(list_all_combos))\n",
    "\n",
    "    counter = 0\n",
    "    \n",
    "    for combo in list_all_combos:\n",
    "        # combo comes out as a tuple, so we switch it to a make a list called combo_parts - but it is actually a list of lists\n",
    "        combo_parts = list(combo)\n",
    "        # now I use this chain function in itertools to turn a list of lists into one list\n",
    "        combo_list = list(map(int, chain.from_iterable(combo_parts)))\n",
    "        # then we can sum the part of each individual list\n",
    "        sumparts = sum(combo_list)\n",
    "        if sumparts == target_sum:\n",
    "            counter += 1\n",
    "    #        print(combo)\n",
    "    #        print(combo_list)\n",
    "            product = 1\n",
    "            for units in combo_list:\n",
    "                product *= units\n",
    "    #        print(product)\n",
    "\n",
    "    print(counter)\n",
    "    \n",
    "find_matches(6143,4)"
   ]
  },
  {
   "cell_type": "code",
   "execution_count": 14,
   "metadata": {},
   "outputs": [],
   "source": [
    "#2: 19900\n",
    "#3: 1313400\n",
    "#4: 64684950\n"
   ]
  },
  {
   "cell_type": "code",
   "execution_count": null,
   "metadata": {},
   "outputs": [],
   "source": []
  }
 ],
 "metadata": {
  "kernelspec": {
   "display_name": "Python 3",
   "language": "python",
   "name": "python3"
  },
  "language_info": {
   "codemirror_mode": {
    "name": "ipython",
    "version": 3
   },
   "file_extension": ".py",
   "mimetype": "text/x-python",
   "name": "python",
   "nbconvert_exporter": "python",
   "pygments_lexer": "ipython3",
   "version": "3.7.6"
  }
 },
 "nbformat": 4,
 "nbformat_minor": 4
}
