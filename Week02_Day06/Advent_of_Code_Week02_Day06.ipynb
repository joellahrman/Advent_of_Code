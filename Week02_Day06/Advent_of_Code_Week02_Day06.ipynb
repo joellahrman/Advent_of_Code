{
 "cells": [
  {
   "cell_type": "code",
   "execution_count": 2,
   "metadata": {},
   "outputs": [
    {
     "name": "stderr",
     "output_type": "stream",
     "text": [
      "C:\\Users\\jlahrman\\.conda\\envs\\py36\\lib\\site-packages\\pandas\\core\\indexing.py:670: SettingWithCopyWarning: \n",
      "A value is trying to be set on a copy of a slice from a DataFrame\n",
      "\n",
      "See the caveats in the documentation: https://pandas.pydata.org/pandas-docs/stable/user_guide/indexing.html#returning-a-view-versus-a-copy\n",
      "  self._setitem_with_indexer(indexer, value)\n"
     ]
    },
    {
     "name": "stdout",
     "output_type": "stream",
     "text": [
      "          answers  group                               characters\n",
      "0        ltbriofs      1                 [l, t, b, r, i, o, f, s]\n",
      "1        bitolfsr      1                 [b, i, t, o, l, f, s, r]\n",
      "2        olitfrbs      1                 [o, l, i, t, f, r, b, s]\n",
      "3        sbirloft      1                 [s, b, i, r, l, o, f, t]\n",
      "4        sbrftiol      1                 [s, b, r, f, t, i, o, l]\n",
      "5             NaN    999                                       []\n",
      "6   erlnjxsqaygzo      2  [e, r, l, n, j, x, s, q, a, y, g, z, o]\n",
      "7     eznagxlqjry      2        [e, z, n, a, g, x, l, q, j, r, y]\n",
      "8     znelyrjaqgx      2        [z, n, e, l, y, r, j, a, q, g, x]\n",
      "9     ynxelzgrjaq      2        [y, n, x, e, l, z, g, r, j, a, q]\n",
      "10            NaN    999                                       []\n",
      "11              r      3                                      [r]\n",
      "12              r      3                                      [r]\n",
      "13              r      3                                      [r]\n",
      "14              r      3                                      [r]\n",
      "15              r      3                                      [r]\n",
      "16            NaN    999                                       []\n",
      "17       detxoina      4                 [d, e, t, x, o, i, n, a]\n",
      "18       rxlwneht      4                 [r, x, l, w, n, e, h, t]\n",
      "19            NaN    999                                       []\n"
     ]
    }
   ],
   "source": [
    "import itertools\n",
    "import requests\n",
    "import pandas as pd\n",
    "import numpy as np\n",
    "import matplotlib.pyplot as plt\n",
    "from wordcloud import WordCloud, STOPWORDS\n",
    "\n",
    "# Import csv\n",
    "data_file_loc = 'C:/Users/jlahrman/OneDrive - LMI/Documents/Advent_of_Code/Week02_Day06/'\n",
    "\n",
    "column = ['answers']\n",
    "# Keep the blank lines, I'm going to use that as my delineator between groups\n",
    "day6data = pd.read_csv(data_file_loc + 'day_06_input.csv', header = None, names = column, skip_blank_lines=False)\n",
    "\n",
    "# Create a group column, fill with all 0s\n",
    "day6data['group'] = 0\n",
    "day6data['characters'] = np.empty((len(day6data), 0)).tolist()\n",
    "\n",
    "#assign groups\n",
    "group_number = 1\n",
    "\n",
    "for x in range(len(day6data)):\n",
    "    if (pd.isnull(day6data.iloc[x]['answers'])):\n",
    "    # If value is null, increment the group number. Create a blank list based on the group number\n",
    "        day6data['group'].iloc[x] = 999\n",
    "        group_number +=1\n",
    "    else:\n",
    "    # If value is not null, apply the current group number. Split the text and append it to the group-specific list\n",
    "        day6data['group'].iloc[x] = group_number\n",
    "#        day6data['characters'].iloc[x] = split(day6data['answers'].iloc[x])\n",
    "        day6data['characters'].iloc[x] = list(day6data['answers'].iloc[x])\n",
    "\n",
    "# Now I've got a column in my data frame that has broken the strings apart into lists of the individual characters\n",
    "print(day6data.head(20))        \n",
    "# This is borrowed code that was getting me on the right path, but it made a list of lists and I couldn't figure out how to\n",
    "# covert all elements of each individual list into one big list\n",
    "#lists = {x: day6data[day6data['group'] == x].characters.tolist() \n",
    "#    for x in day6data['group'].unique()\n",
    "#        lists = list(map(int, chain.from_iterable(list)))\n",
    "#        }"
   ]
  },
  {
   "cell_type": "code",
   "execution_count": 3,
   "metadata": {},
   "outputs": [
    {
     "name": "stdout",
     "output_type": "stream",
     "text": [
      "puzzle_1_answer: 6506\n",
      "puzzle_2_answer: 3243\n",
      "  instances group_size group\n",
      "e         1          2   479\n",
      "v         1          3   480\n",
      "p         1          3   480\n",
      "w         3          3   480\n",
      "o         1          3   480\n",
      "a         1          3   480\n",
      "t         1          3   480\n",
      "u         3          3   480\n",
      "y         1          3   480\n",
      "b         1          3   480\n",
      "s         1          3   480\n",
      "j         3          3   480\n",
      "k         1          3   480\n",
      "r         1          3   480\n",
      "i         1          3   480\n",
      "m         1          3   480\n",
      "e         1          3   480\n",
      "z         2          3   480\n",
      "d         2          3   480\n",
      "x         1          3   480\n"
     ]
    }
   ],
   "source": [
    "# Now build one group-specific list, find out how many unique values are in each list, and keep a running counter\n",
    "puzzle_1_answer = 0\n",
    "\n",
    "# Create a blank data frame that will answer both questions\n",
    "# It will contain the following:\n",
    "    # instances - the number of instances of each character occurring within each group\n",
    "    # group_size - the number of people in each group\n",
    "    # If the group_size matches the instances, that means that everybody in the group answered yes to the question\n",
    "    # group - just there for documentation\n",
    "puzzle_answer_df = pd.DataFrame(columns=['instances', 'group_size', 'group'])\n",
    "\n",
    "for x in range(day6data['group'].max()):\n",
    "    # filter the data down to each individual group\n",
    "    subset = day6data[day6data.group == x]\n",
    "    # create a blank list for the group\n",
    "    group_list = []\n",
    "    for y in range(len(subset)):\n",
    "        # Add the characters list to the existing group_list to compile all the characters by group\n",
    "        group_list.extend(subset['characters'].iloc[y])\n",
    "    # Create a dictionary that will count the number of instances of each character within the group\n",
    "    counts = {}\n",
    "    for item in group_list:\n",
    "        if item in counts:\n",
    "            counts[item] += 1\n",
    "        else:\n",
    "            counts[item] = 1\n",
    "    # Now convert that dictionary to a data frame, rename the column\n",
    "    df = pd.DataFrame(counts, index=[0]).T\n",
    "    df.rename(columns={df.columns[0]: 'instances'},inplace = True)\n",
    "    # The group_size is the length of the subset, which is the number of people in the group\n",
    "    df['group_size'] = len(subset)\n",
    "    # Insert the group name\n",
    "    df['group'] = x\n",
    "    # Append the group-specific df to the overall df\n",
    "    puzzle_answer_df = puzzle_answer_df.append(df)\n",
    "\n",
    "# When I try to convert unique_group_list from a set back to a list I get a 'not callable' error, not sure what's going on there\n",
    "    #    unique_group_list = list(set(group_list))\n",
    "    # The length of the set is the number of unique characters (i.e. questions answered) for each group\n",
    "    # Keep a running total by adding the length of each group's set as it iterates through all the data\n",
    "#    puzzle_1_answer += len(set(group_list))\n",
    "\n",
    "# The length of the df is the answer to puzzle 1 - it's how many unique group/character combinations we have\n",
    "print('puzzle_1_answer:', len(puzzle_answer_df))\n",
    "\n",
    "# To answer the second puzzle, just filter the df to only those rows where instances match the group_size and find the length\n",
    "print('puzzle_2_answer:', len(puzzle_answer_df[puzzle_answer_df.instances == puzzle_answer_df.group_size]))\n",
    "\n",
    "# print(puzzle_answer_df.tail(20))"
   ]
  },
  {
   "cell_type": "code",
   "execution_count": 58,
   "metadata": {},
   "outputs": [
    {
     "name": "stdout",
     "output_type": "stream",
     "text": [
      "[14, 20, 2, 75, 15]\n"
     ]
    }
   ],
   "source": [
    "# Dug this up and it seemed to work OK, but I could figure out how to apply it to my lists of lists above\n",
    "from itertools import chain\n",
    "\n",
    "mylist = [[\"14\",\"20\"],[\"2\"],[\"75\"],[\"15\"]]\n",
    "newest = list(map(int, chain.from_iterable(mylist)))\n",
    "print(newest)\n",
    "\n",
    "# [*inner for outer in nested for inner in outer]\n"
   ]
  }
 ],
 "metadata": {
  "kernelspec": {
   "display_name": "Python 3",
   "language": "python",
   "name": "python3"
  },
  "language_info": {
   "codemirror_mode": {
    "name": "ipython",
    "version": 3
   },
   "file_extension": ".py",
   "mimetype": "text/x-python",
   "name": "python",
   "nbconvert_exporter": "python",
   "pygments_lexer": "ipython3",
   "version": "3.7.6"
  }
 },
 "nbformat": 4,
 "nbformat_minor": 4
}
